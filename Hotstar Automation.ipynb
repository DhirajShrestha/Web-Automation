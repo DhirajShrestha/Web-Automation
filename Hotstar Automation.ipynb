{
 "cells": [
  {
   "cell_type": "code",
   "execution_count": null,
   "id": "89581bec",
   "metadata": {},
   "outputs": [],
   "source": [
    "pip install bs4"
   ]
  },
  {
   "cell_type": "code",
   "execution_count": null,
   "id": "ca760ced",
   "metadata": {},
   "outputs": [],
   "source": [
    "pip install lxml"
   ]
  },
  {
   "cell_type": "code",
   "execution_count": null,
   "id": "22ae56e3",
   "metadata": {},
   "outputs": [],
   "source": [
    "from selenium import webdriver\n",
    "from selenium .webdriver.common.by import By\n",
    "from selenium.webdriver.chrome.service import Service\n",
    "from selenium.webdriver.support.select import Select\n",
    "from selenium.webdriver.remote.webelement import WebElement\n",
    "from selenium.webdriver.common.action_chains import ActionChains\n",
    "from selenium.webdriver.common.keys import Keys\n",
    "from bs4 import BeautifulSoup as bs\n",
    "import pandas as pd\n",
    "import requests\n",
    "import time"
   ]
  },
  {
   "cell_type": "code",
   "execution_count": null,
   "id": "0dca743f",
   "metadata": {},
   "outputs": [],
   "source": [
    "\n",
    "driver = webdriver.Chrome(r'C:\\Users\\DHEERAJ SHRESTHA\\Downloads\\chromedriver_win32\\chromedriver.exe')\n",
    "driver.get(\"https://www.hotstar.com/\")\n",
    "time.sleep(3)\n",
    "search_box=driver.find_element(by=By.XPATH,value=\"/html/body/div[1]/div/div/div[1]/div[1]/div/div[2]/div/div[4]/input\")\n",
    "search_box.send_keys(\"She Hulk\")\n",
    "search_box.send_keys(Keys.ENTER)\n",
    "time.sleep(3)\n",
    "\n",
    "# scroll_time= 0.5    #scrolling time\n",
    "\n",
    "scroll=driver.find_element(by=By.TAG_NAME,value=\"body\").send_keys(Keys.PAGE_DOWN)\n",
    "time.sleep(2)\n",
    "scroll=driver.find_element(by=By.TAG_NAME,value=\"body\").send_keys(Keys.PAGE_UP)\n",
    "time.sleep(2)\n",
    "\n",
    "search_box=driver.find_element(\"xpath\",'//*[@id=\"app\"]/div/div/div[1]/div[1]/div/div[2]/div/div[2]/a/img').click()\n",
    "\n",
    "time.sleep(2)\n",
    "\n",
    "search_box2=driver.find_element(by=By.XPATH,value=\"/html/body/div/div/div/div[1]/div[1]/div/div[2]/div/div[4]/input\")\n",
    "search_box2.send_keys(\"Marvels\")\n",
    "search_box2.send_keys(Keys.ENTER)\n",
    "time.sleep(2)\n",
    "\n",
    "element = driver.find_element(\"xpath\",'//*[@id=\"app\"]/div/div/div[1]/div[2]/div/div/div/div/div[2]/div[41]/div/div/article/a')\n",
    "actions = ActionChains(driver)\n",
    "actions.move_to_element(element).perform()\n",
    "time.sleep(2)\n",
    "\n",
    "driver.execute_script(\"arguments[0].scrollIntoView();\", element)\n",
    "element.send_keys(Keys.ENTER)\n",
    "time.sleep(2)\n",
    "driver.save_screenshot('screenshot.png')\n",
    "\n",
    "play=driver.find_element(\"xpath\",'//*[@id=\"app\"]/div/div/div[1]/div[2]/div[2]/div/div/div/div/div[1]/div/div/div/div[2]/div/div/div/div/div/div/div/article/a/div[3]/div[1]').click()\n",
    "time.sleep(5)\n",
    "\n",
    "\n",
    "link=\"https://www.hotstar.com/in/iron-man-and-captain-america-heroes-united-trailer/1260026850\"\n",
    "page=requests.get(link)\n",
    "print(page)\n",
    "soup=bs(page.content,\"html.parser\")\n",
    "title=soup.find_all(\"div\",h1_=\"#app > div > div > div.master-container-inner > div.watch-area > div.detail-area > div > div > h1\")\n",
    "title_of_movie=[]\n",
    "for i in range(0,len(title)):\n",
    "    title_of_movie.append(title[i].get_text())"
   ]
  },
  {
   "cell_type": "code",
   "execution_count": null,
   "id": "74c653fe",
   "metadata": {},
   "outputs": [],
   "source": []
  },
  {
   "cell_type": "code",
   "execution_count": null,
   "id": "bdb5f48f",
   "metadata": {},
   "outputs": [],
   "source": []
  }
 ],
 "metadata": {
  "kernelspec": {
   "display_name": "Python 3 (ipykernel)",
   "language": "python",
   "name": "python3"
  },
  "language_info": {
   "codemirror_mode": {
    "name": "ipython",
    "version": 3
   },
   "file_extension": ".py",
   "mimetype": "text/x-python",
   "name": "python",
   "nbconvert_exporter": "python",
   "pygments_lexer": "ipython3",
   "version": "3.9.12"
  }
 },
 "nbformat": 4,
 "nbformat_minor": 5
}
